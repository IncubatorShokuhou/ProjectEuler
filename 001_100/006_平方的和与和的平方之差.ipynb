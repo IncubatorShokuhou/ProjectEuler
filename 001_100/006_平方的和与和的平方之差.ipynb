{
 "cells": [
  {
   "cell_type": "markdown",
   "metadata": {},
   "source": [
    "## 平方的和与和的平方之差\n",
    "\n",
    "前十个自然数的平方的和是\n",
    "1^2 + 2^2 + ... + 10^2 = 385\n",
    "\n",
    "前十个自然数的和的平方是\n",
    "(1 + 2 + ... + 10)^2 = 55^2 = 3025\n",
    "\n",
    "因此前十个自然数的平方的和与和的平方之差是 3025 − 385 = 2640。\n",
    "\n",
    "求前一百个自然数的平方的和与和的平方之差。"
   ]
  },
  {
   "cell_type": "code",
   "execution_count": 30,
   "metadata": {},
   "outputs": [],
   "source": [
    "def result(n):\n",
    "    return sum(i for i in range(1,n+1))**2 - sum(i**2 for i in range(1,n+1))"
   ]
  },
  {
   "cell_type": "code",
   "execution_count": 31,
   "metadata": {},
   "outputs": [
    {
     "data": {
      "text/plain": [
       "25164150"
      ]
     },
     "execution_count": 31,
     "metadata": {},
     "output_type": "execute_result"
    }
   ],
   "source": [
    "result(100)"
   ]
  }
 ],
 "metadata": {
  "kernelspec": {
   "display_name": "Python 3",
   "language": "python",
   "name": "python3"
  },
  "language_info": {
   "codemirror_mode": {
    "name": "ipython",
    "version": 3
   },
   "file_extension": ".py",
   "mimetype": "text/x-python",
   "name": "python",
   "nbconvert_exporter": "python",
   "pygments_lexer": "ipython3",
   "version": "3.7.6"
  }
 },
 "nbformat": 4,
 "nbformat_minor": 4
}
