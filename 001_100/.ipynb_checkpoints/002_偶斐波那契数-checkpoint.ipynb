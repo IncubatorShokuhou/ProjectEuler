{
 "cells": [
  {
   "cell_type": "markdown",
   "metadata": {},
   "source": [
    "## 偶斐波那契数\n",
    "\n",
    "斐波那契数列中的每一项都是前两项的和。由1和2开始生成的斐波那契数列前10项为：\n",
    "1, 2, 3, 5, 8, 13, 21, 34, 55, 89, ...\n",
    "\n",
    "考虑该斐波那契数列中不超过四百万的项，求其中为偶数的项之和。"
   ]
  },
  {
   "cell_type": "code",
   "execution_count": 8,
   "metadata": {},
   "outputs": [],
   "source": [
    "import math\n",
    "def feb(n):\n",
    "    #斐波那契数列通项公式\n",
    "    return int(1/math.sqrt(5)*(((1+math.sqrt(5))/2)**n - ((1-math.sqrt(5))/2)**n))"
   ]
  },
  {
   "cell_type": "code",
   "execution_count": 10,
   "metadata": {},
   "outputs": [],
   "source": [
    "#偶数项为第3n项\n",
    "def result(n=4000000):\n",
    "    final=0\n",
    "    i=3\n",
    "    while feb(i)<n:\n",
    "        final += feb(i)\n",
    "        i+=3\n",
    "    return final"
   ]
  },
  {
   "cell_type": "code",
   "execution_count": 12,
   "metadata": {},
   "outputs": [
    {
     "data": {
      "text/plain": [
       "4613732"
      ]
     },
     "execution_count": 12,
     "metadata": {},
     "output_type": "execute_result"
    }
   ],
   "source": [
    "result()"
   ]
  }
 ],
 "metadata": {
  "kernelspec": {
   "display_name": "Python 3",
   "language": "python",
   "name": "python3"
  },
  "language_info": {
   "codemirror_mode": {
    "name": "ipython",
    "version": 3
   },
   "file_extension": ".py",
   "mimetype": "text/x-python",
   "name": "python",
   "nbconvert_exporter": "python",
   "pygments_lexer": "ipython3",
   "version": "3.7.6"
  }
 },
 "nbformat": 4,
 "nbformat_minor": 4
}
