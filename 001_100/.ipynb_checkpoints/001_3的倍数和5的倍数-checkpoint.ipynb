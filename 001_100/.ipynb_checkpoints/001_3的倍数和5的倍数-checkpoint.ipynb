{
 "cells": [
  {
   "cell_type": "markdown",
   "metadata": {},
   "source": [
    "## 3的倍数和5的倍数\n",
    "\n",
    "如果我们列出10以内所有3或5的倍数，我们将得到3、5、6和9，这些数的和是23。\n",
    "\n",
    "求1000以内所有3或5的倍数的和。"
   ]
  },
  {
   "cell_type": "code",
   "execution_count": 6,
   "metadata": {},
   "outputs": [],
   "source": [
    "def sum_under(a=1000,b=3):\n",
    "    #a以内b的倍数的和\n",
    "    a = a-1  #below 1000\n",
    "    a1 = 0  #首项\n",
    "    an = a  - a%b  #末项\n",
    "    n = (an-0)/b + 1  #项数\n",
    "    #等差数列求和:(a1+an)*n/2\n",
    "    return n*(a1+an)/2"
   ]
  },
  {
   "cell_type": "code",
   "execution_count": 7,
   "metadata": {},
   "outputs": [],
   "source": [
    "def result(a):\n",
    "    #a以内所有3或5倍数和\n",
    "    return sum_under(a,3)+sum_under(a,5)-sum_under(a,15)"
   ]
  },
  {
   "cell_type": "code",
   "execution_count": 8,
   "metadata": {},
   "outputs": [
    {
     "data": {
      "text/plain": [
       "233168.0"
      ]
     },
     "execution_count": 8,
     "metadata": {},
     "output_type": "execute_result"
    }
   ],
   "source": [
    "result(1000)"
   ]
  }
 ],
 "metadata": {
  "kernelspec": {
   "display_name": "Python 3",
   "language": "python",
   "name": "python3"
  },
  "language_info": {
   "codemirror_mode": {
    "name": "ipython",
    "version": 3
   },
   "file_extension": ".py",
   "mimetype": "text/x-python",
   "name": "python",
   "nbconvert_exporter": "python",
   "pygments_lexer": "ipython3",
   "version": "3.7.6"
  }
 },
 "nbformat": 4,
 "nbformat_minor": 4
}
