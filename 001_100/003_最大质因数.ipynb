{
 "cells": [
  {
   "cell_type": "markdown",
   "metadata": {},
   "source": [
    "## 最大质因数\n",
    "\n",
    "13195的所有质因数为5、7、13和29。\n",
    "\n",
    "600851475143最大的质因数是多少？"
   ]
  },
  {
   "cell_type": "code",
   "execution_count": 2,
   "metadata": {},
   "outputs": [],
   "source": [
    "import math\n",
    "def isPrime(n):  #判断n是否为质数   \n",
    "    for i in range(2, int(math.sqrt(n))+1):  \n",
    "        if n % i == 0:  \n",
    "            return False  \n",
    "    return True "
   ]
  },
  {
   "cell_type": "code",
   "execution_count": 3,
   "metadata": {},
   "outputs": [],
   "source": [
    "def result(num):\n",
    "    index = 2  \n",
    "    maxPrime = None  \n",
    "  \n",
    "    while index <= num:  \n",
    "        if isPrime(index):\n",
    "            while num % index == 0:  \n",
    "                #除数逐渐增加，每次先判断是否质数，然后判断是否整除\n",
    "                num /= index  \n",
    "                maxPrime = index  \n",
    "        #每次更新最大素数\n",
    "        index += 1  \n",
    "    return maxPrime"
   ]
  },
  {
   "cell_type": "code",
   "execution_count": 4,
   "metadata": {},
   "outputs": [
    {
     "output_type": "execute_result",
     "data": {
      "text/plain": "6857"
     },
     "metadata": {},
     "execution_count": 4
    }
   ],
   "source": [
    "result(600851475143)"
   ]
  }
 ],
 "metadata": {
  "kernelspec": {
   "display_name": "Python 3",
   "language": "python",
   "name": "python3"
  },
  "language_info": {
   "codemirror_mode": {
    "name": "ipython",
    "version": 3
   },
   "file_extension": ".py",
   "mimetype": "text/x-python",
   "name": "python",
   "nbconvert_exporter": "python",
   "pygments_lexer": "ipython3",
   "version": "3.7.6-final"
  }
 },
 "nbformat": 4,
 "nbformat_minor": 4
}