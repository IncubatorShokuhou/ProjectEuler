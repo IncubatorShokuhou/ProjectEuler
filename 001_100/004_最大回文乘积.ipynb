{
 "cells": [
  {
   "cell_type": "markdown",
   "metadata": {},
   "source": [
    "## 最大回文乘积\n",
    "\n",
    "回文数就是从前往后和从后往前读都一样的数。由两个2位数相乘得到的最大回文乘积是 9009 = 91 × 99。\n",
    "\n",
    "找出由两个3位数相乘得到的最大回文乘积。"
   ]
  },
  {
   "cell_type": "code",
   "execution_count": 13,
   "metadata": {},
   "outputs": [],
   "source": [
    "def palindrome(a,b,c):\n",
    "    return 11*(9091*a + 910*b + 100*c)\n",
    "def is_palindrome(n):\n",
    "    if str(n) == str(n)[::-1]:\n",
    "        return True\n",
    "    else:\n",
    "        return False"
   ]
  },
  {
   "cell_type": "code",
   "execution_count": 23,
   "metadata": {},
   "outputs": [],
   "source": [
    "# 最大三位数乘积：999*999=998001\n",
    "# 最大潜在回文数： 997799\n",
    "def result():\n",
    "    potential_max = 0\n",
    "    potential_i = 0\n",
    "    potential_j = 0\n",
    "    for i in range(999,0,-1):\n",
    "        for j in range(999,0,-1):\n",
    "            if is_palindrome(i*j):\n",
    "                if i*j > potential_max:\n",
    "                    potential_max = i*j\n",
    "                    potential_i = i\n",
    "                    potential_j = j\n",
    "    return potential_i,potential_j,potential_max"
   ]
  },
  {
   "cell_type": "code",
   "execution_count": 24,
   "metadata": {},
   "outputs": [
    {
     "data": {
      "text/plain": [
       "(993, 913, 906609)"
      ]
     },
     "execution_count": 24,
     "metadata": {},
     "output_type": "execute_result"
    }
   ],
   "source": [
    "result()"
   ]
  }
 ],
 "metadata": {
  "kernelspec": {
   "display_name": "Python 3",
   "language": "python",
   "name": "python3"
  },
  "language_info": {
   "codemirror_mode": {
    "name": "ipython",
    "version": 3
   },
   "file_extension": ".py",
   "mimetype": "text/x-python",
   "name": "python",
   "nbconvert_exporter": "python",
   "pygments_lexer": "ipython3",
   "version": "3.7.6"
  }
 },
 "nbformat": 4,
 "nbformat_minor": 4
}
