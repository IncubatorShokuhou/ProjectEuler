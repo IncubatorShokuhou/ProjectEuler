{
 "cells": [
  {
   "cell_type": "markdown",
   "metadata": {},
   "source": [
    "## 最小倍数\n",
    "\n",
    "2520是最小的能够被1到10整除的数。\n",
    "\n",
    "最小的能够被1到20整除的正数是多少？"
   ]
  },
  {
   "cell_type": "code",
   "execution_count": 41,
   "metadata": {},
   "outputs": [],
   "source": [
    "from functools import reduce\n",
    "def lcm(n1,n2):  #两个数的最小公倍数\n",
    "    temp1 = n1\n",
    "    temp2 = n2\n",
    "    if n1 == 0:\n",
    "        n1, n2 = n2, n1\n",
    "    while n2 != 0:  #短除法获得最大公约数\n",
    "        n1, n2 = n2, n1 % n2\n",
    "    return int(temp1 * temp2 / n1)  #积除以最大公约数即为最小公倍数"
   ]
  },
  {
   "cell_type": "code",
   "execution_count": 42,
   "metadata": {},
   "outputs": [],
   "source": [
    "def result(n):\n",
    "    return reduce(lambda x, y: lcm(x,y), range(1,n+1)) "
   ]
  },
  {
   "cell_type": "code",
   "execution_count": 43,
   "metadata": {},
   "outputs": [
    {
     "data": {
      "text/plain": [
       "232792560"
      ]
     },
     "execution_count": 43,
     "metadata": {},
     "output_type": "execute_result"
    }
   ],
   "source": [
    "result(20)"
   ]
  }
 ],
 "metadata": {
  "kernelspec": {
   "display_name": "Python 3",
   "language": "python",
   "name": "python3"
  },
  "language_info": {
   "codemirror_mode": {
    "name": "ipython",
    "version": 3
   },
   "file_extension": ".py",
   "mimetype": "text/x-python",
   "name": "python",
   "nbconvert_exporter": "python",
   "pygments_lexer": "ipython3",
   "version": "3.7.6"
  }
 },
 "nbformat": 4,
 "nbformat_minor": 4
}
